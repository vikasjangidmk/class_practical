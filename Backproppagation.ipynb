{
 "cells": [
  {
   "cell_type": "markdown",
   "metadata": {},
   "source": [
    "# **NAME:-VIKAS JANGID**\n",
    "# **UID:- 23MSM40002**"
   ]
  },
  {
   "cell_type": "markdown",
   "metadata": {},
   "source": [
    "---"
   ]
  },
  {
   "cell_type": "markdown",
   "metadata": {},
   "source": [
    "# **EXPERIMENT-1**"
   ]
  },
  {
   "cell_type": "markdown",
   "metadata": {},
   "source": [
    "---"
   ]
  },
  {
   "cell_type": "markdown",
   "metadata": {},
   "source": [
    "# **Aim:-** Write a program to implement Backpropagation ANN"
   ]
  },
  {
   "cell_type": "markdown",
   "metadata": {},
   "source": [
    "---"
   ]
  },
  {
   "cell_type": "markdown",
   "metadata": {},
   "source": [
    "# **Objective:-** \n",
    "The objective of this program is to design and implement a Backpropagation Artificial Neural Network (ANN) that can learn from a given dataset and make predictions on new, unseen data. The program should demonstrate the following key aspects of a Backpropagation ANN:\n",
    "\n",
    "1. Forward Propagation: The ability to propagate inputs through the network to generate an output.\n",
    "2. Error Calculation: The ability to calculate the error between the predicted output and the actual output.\n",
    "3. Backward Propagation: The ability to propagate the error backwards through the network to update the weights and biases of the neurons.\n",
    "4. Weight Update: The ability to update the weights and biases of the neurons based on the error and the learning rate."
   ]
  },
  {
   "cell_type": "markdown",
   "metadata": {},
   "source": [
    "---"
   ]
  },
  {
   "cell_type": "markdown",
   "metadata": {},
   "source": [
    "# **Code:-**"
   ]
  },
  {
   "cell_type": "code",
   "execution_count": 2,
   "metadata": {},
   "outputs": [
    {
     "name": "stdout",
     "output_type": "stream",
     "text": [
      "Weight after trainig =  [[-0.29223695]\n",
      " [ 0.66650821]\n",
      " [-0.42177185]]\n",
      "Output for test input [1,0,0] =  [0.42745631]\n"
     ]
    }
   ],
   "source": [
    "import numpy as np\n",
    "\n",
    "# Sigmoid Function\n",
    "def sigmoid(x):\n",
    "    return 1 / (1 + np.exp(-x))\n",
    "\n",
    "# Derivative of Sigmoid Function\n",
    "def derivatives_sigmoid(x):\n",
    "    return x * (1 - x)\n",
    "\n",
    "# Input Data(4 samples, each with 3 features)\n",
    "X = np.array([[1,2,3],\n",
    "              [3,4,5],\n",
    "              [5,6,7],\n",
    "              [7,8,9]\n",
    "              ])\n",
    "\n",
    "# Output Data(4 samples, each with 1 target)\n",
    "y = np.array([[0],\n",
    "              [1],\n",
    "              [1],\n",
    "              [0]])\n",
    "\n",
    "# Seed the random number generator for reproducibility\n",
    "np.random.seed(1)\n",
    "\n",
    "# Initialize weight randomly with mean 0 \n",
    "weights = 2 * np.random.random((3,1)) - 1\n",
    "\n",
    "# Learning rate \n",
    "learning_rate = 0.1\n",
    "\n",
    "# Number of iterations\n",
    "iterations = 10000\n",
    "\n",
    "# Training process\n",
    "for iteration in range(iterations):\n",
    "    # Forward Propagation\n",
    "    input_layer = X\n",
    "    outputs = sigmoid(np.dot(input_layer,weights))\n",
    "    \n",
    "    # Calculate the error\n",
    "    error = y - outputs\n",
    "    \n",
    "    # Backpropagation\n",
    "    adjustments = error * derivatives_sigmoid(outputs)\n",
    "    weights += np.dot(input_layer.T,adjustments) * learning_rate\n",
    "    \n",
    "# Final weight after training\n",
    "print(\"Weight after trainig = \",weights )\n",
    "\n",
    "# Test the network with a new input\n",
    "test_input = np.array([1,0,0])\n",
    "output = sigmoid(np.dot(test_input,weights))\n",
    "print(\"Output for test input [1,0,0] = \", output)\n"
   ]
  },
  {
   "cell_type": "markdown",
   "metadata": {},
   "source": [
    "---"
   ]
  },
  {
   "cell_type": "markdown",
   "metadata": {},
   "source": [
    "# **Learning Outcomes**\n",
    "1. Explain the concept of Backpropagation in Artificial Neural Networks (ANNs)\n",
    "2. Describe the steps involved in the Backpropagation algorithm\n",
    "3. Identify the importance of Backpropagation in training ANNs\n",
    "4. Apply the Backpropagation algorithm to solve a classification or regression problem"
   ]
  },
  {
   "cell_type": "markdown",
   "metadata": {},
   "source": [
    "---"
   ]
  }
 ],
 "metadata": {
  "kernelspec": {
   "display_name": "base",
   "language": "python",
   "name": "python3"
  },
  "language_info": {
   "codemirror_mode": {
    "name": "ipython",
    "version": 3
   },
   "file_extension": ".py",
   "mimetype": "text/x-python",
   "name": "python",
   "nbconvert_exporter": "python",
   "pygments_lexer": "ipython3",
   "version": "3.11.3"
  }
 },
 "nbformat": 4,
 "nbformat_minor": 2
}
